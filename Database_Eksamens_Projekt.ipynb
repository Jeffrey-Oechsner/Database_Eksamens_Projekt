{
 "cells": [
  {
   "cell_type": "code",
   "execution_count": 1,
   "id": "56ebac01-c1c8-4b79-86b8-6d4cb76350b4",
   "metadata": {},
   "outputs": [
    {
     "name": "stdout",
     "output_type": "stream",
     "text": [
      "Collecting neo4j\n",
      "  Downloading neo4j-5.20.0.tar.gz (202 kB)\n",
      "     ---------------------------------------- 0.0/203.0 kB ? eta -:--:--\n",
      "     --- --------------------------------- 20.5/203.0 kB 320.0 kB/s eta 0:00:01\n",
      "     -------------- ---------------------- 81.9/203.0 kB 907.3 kB/s eta 0:00:01\n",
      "     -------------------------------------- 203.0/203.0 kB 1.8 MB/s eta 0:00:00\n",
      "  Installing build dependencies: started\n",
      "  Installing build dependencies: finished with status 'done'\n",
      "  Getting requirements to build wheel: started\n",
      "  Getting requirements to build wheel: finished with status 'done'\n",
      "  Installing backend dependencies: started\n",
      "  Installing backend dependencies: finished with status 'done'\n",
      "  Preparing metadata (pyproject.toml): started\n",
      "  Preparing metadata (pyproject.toml): finished with status 'done'\n",
      "Requirement already satisfied: pytz in c:\\users\\jeffo\\appdata\\local\\programs\\python\\python312\\lib\\site-packages (from neo4j) (2024.1)\n",
      "Building wheels for collected packages: neo4j\n",
      "  Building wheel for neo4j (pyproject.toml): started\n",
      "  Building wheel for neo4j (pyproject.toml): finished with status 'done'\n",
      "  Created wheel for neo4j: filename=neo4j-5.20.0-py3-none-any.whl size=280801 sha256=2c519884c34a6c448208337ab7f52e92b0796bb814f77930bf2c8d6c30a05dc0\n",
      "  Stored in directory: c:\\users\\jeffo\\appdata\\local\\pip\\cache\\wheels\\d6\\1d\\48\\3e3738e5da9e07926dbcb7f6488ff7cb463156ade0c9f60cc5\n",
      "Successfully built neo4j\n",
      "Installing collected packages: neo4j\n",
      "Successfully installed neo4j-5.20.0\n"
     ]
    }
   ],
   "source": [
    "!pip install neo4j\n"
   ]
  },
  {
   "cell_type": "code",
   "execution_count": 1,
   "id": "df9dd27f-2905-47b4-93a2-6e65a4cd3340",
   "metadata": {},
   "outputs": [
    {
     "name": "stdout",
     "output_type": "stream",
     "text": [
      "Collecting py2neo\n",
      "  Downloading py2neo-2021.2.4-py2.py3-none-any.whl.metadata (9.9 kB)\n",
      "Requirement already satisfied: certifi in c:\\users\\jeffo\\appdata\\local\\programs\\python\\python312\\lib\\site-packages (from py2neo) (2023.11.17)\n",
      "Collecting interchange~=2021.0.4 (from py2neo)\n",
      "  Downloading interchange-2021.0.4-py2.py3-none-any.whl.metadata (1.9 kB)\n",
      "Collecting monotonic (from py2neo)\n",
      "  Downloading monotonic-1.6-py2.py3-none-any.whl.metadata (1.5 kB)\n",
      "Requirement already satisfied: packaging in c:\\users\\jeffo\\appdata\\local\\programs\\python\\python312\\lib\\site-packages (from py2neo) (23.2)\n",
      "Collecting pansi>=2020.7.3 (from py2neo)\n",
      "  Downloading pansi-2020.7.3-py2.py3-none-any.whl.metadata (6.0 kB)\n",
      "Requirement already satisfied: pygments>=2.0.0 in c:\\users\\jeffo\\appdata\\local\\programs\\python\\python312\\lib\\site-packages (from py2neo) (2.17.2)\n",
      "Requirement already satisfied: six>=1.15.0 in c:\\users\\jeffo\\appdata\\local\\programs\\python\\python312\\lib\\site-packages (from py2neo) (1.16.0)\n",
      "Requirement already satisfied: urllib3 in c:\\users\\jeffo\\appdata\\local\\programs\\python\\python312\\lib\\site-packages (from py2neo) (1.26.18)\n",
      "Requirement already satisfied: pytz in c:\\users\\jeffo\\appdata\\local\\programs\\python\\python312\\lib\\site-packages (from interchange~=2021.0.4->py2neo) (2024.1)\n",
      "Downloading py2neo-2021.2.4-py2.py3-none-any.whl (177 kB)\n",
      "   ---------------------------------------- 0.0/177.2 kB ? eta -:--:--\n",
      "   --------- ----------------------------- 41.0/177.2 kB 991.0 kB/s eta 0:00:01\n",
      "   ---------------------------------------- 177.2/177.2 kB 2.7 MB/s eta 0:00:00\n",
      "Downloading interchange-2021.0.4-py2.py3-none-any.whl (28 kB)\n",
      "Downloading pansi-2020.7.3-py2.py3-none-any.whl (10 kB)\n",
      "Downloading monotonic-1.6-py2.py3-none-any.whl (8.2 kB)\n",
      "Installing collected packages: monotonic, pansi, interchange, py2neo\n",
      "Successfully installed interchange-2021.0.4 monotonic-1.6 pansi-2020.7.3 py2neo-2021.2.4\n"
     ]
    }
   ],
   "source": [
    "!pip install py2neo\n"
   ]
  },
  {
   "cell_type": "markdown",
   "id": "7d5adca5-6780-44d3-bbda-e342f00cd5cc",
   "metadata": {},
   "source": [
    "py2neo is one of the principal libraries for working with Neo4j from Python. It wraps Neo4j’s HTTP and Bolt protocols and provides a clean and simple interface to execute Cypher queries, handle transactions, and manage the database."
   ]
  },
  {
   "cell_type": "markdown",
   "id": "0906a523-fec3-4f59-b7ab-e566781286f8",
   "metadata": {},
   "source": [
    "Step 1: Import Necessary Libraries\n",
    "importing the necessary Python libraries. Here, we'll use pandas for data manipulation and py2neo for interacting with the Neo4j database."
   ]
  },
  {
   "cell_type": "code",
   "execution_count": 5,
   "id": "ff87b64e-9a2c-4355-870f-712855d9e2ce",
   "metadata": {},
   "outputs": [],
   "source": [
    "# Import necessary libraries\n",
    "import pandas as pd\n",
    "from py2neo import Graph\n"
   ]
  },
  {
   "cell_type": "markdown",
   "id": "052478ea-99ee-48e8-a8d1-43fa2a7bbcd7",
   "metadata": {},
   "source": [
    "Step 2: Connect to Neo4j\n",
    "Set up a connection to your Neo4j database:"
   ]
  },
  {
   "cell_type": "code",
   "execution_count": 6,
   "id": "ce22872c-eb6e-4a7a-8650-41a34edf924b",
   "metadata": {},
   "outputs": [
    {
     "name": "stdout",
     "output_type": "stream",
     "text": [
      "[{'message': 'Connection Successful!'}]\n"
     ]
    }
   ],
   "source": [
    "from py2neo import Graph\n",
    "\n",
    "# Replace 'your_new_password' with the password you just set\n",
    "graph = Graph(\"bolt://localhost:7687\", auth=(\"neo4j\", \"12345678\"))\n",
    "\n",
    "# Test the connection\n",
    "print(graph.run(\"RETURN 'Connection Successful!' AS message\").data())\n"
   ]
  },
  {
   "cell_type": "markdown",
   "id": "08d50f70-0b5d-402d-bbe6-f953ab1a867f",
   "metadata": {},
   "source": [
    "Step 3: Load and Analyze CSV Data\n",
    "\n",
    "Importing pandas: First, we import the pandas library, which is essential for data manipulation in Python.\r\n",
    "    Setting the file path: We store the path to your CSV file in a variable called file_path. Since the CSV file is in the same directory as your Jupyter notebook, you only need to specify the filename.\r\n",
    "    Reading the CSV file: We use pd.read_csv() to read the CSV file into a DataFrame. This function converts the structured CSV file into a pandas DataFrame, which allows for more complex data manipulations.\r\n",
    "    Printing the data: df.head() prints the first few rows of the DataFrame, giving you a snapshot of the data structure. df.info() provides a concise summary of the DataFrame, showing types of columns, non-null values, and memory usage."
   ]
  },
  {
   "cell_type": "code",
   "execution_count": null,
   "id": "6a582007-21a7-4eb2-97cf-f0b88f5594cc",
   "metadata": {},
   "outputs": [],
   "source": [
    "# Import necessary library\n",
    "import pandas as pd\n",
    "\n",
    "# Set the path to the CSV file\n",
    "file_path = \"2016 - Citywide GHG Emissions.csv\"\n",
    "\n",
    "# Load the CSV data into a DataFrame\n",
    "df = pd.read_csv(file_path)\n",
    "\n",
    "# Display the first few rows to understand the data\n",
    "print(df.head())\n",
    "\n",
    "# Display DataFrame info to understand columns and data types\n",
    "print(df.info())\n"
   ]
  }
 ],
 "metadata": {
  "kernelspec": {
   "display_name": "Python 3 (ipykernel)",
   "language": "python",
   "name": "python3"
  },
  "language_info": {
   "codemirror_mode": {
    "name": "ipython",
    "version": 3
   },
   "file_extension": ".py",
   "mimetype": "text/x-python",
   "name": "python",
   "nbconvert_exporter": "python",
   "pygments_lexer": "ipython3",
   "version": "3.12.1"
  }
 },
 "nbformat": 4,
 "nbformat_minor": 5
}
